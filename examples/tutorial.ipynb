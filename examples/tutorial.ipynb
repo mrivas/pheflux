{
 "cells": [
  {
   "cell_type": "markdown",
   "metadata": {},
   "source": [
    "# Tutorial"
   ]
  },
  {
   "cell_type": "markdown",
   "metadata": {},
   "source": [
    "## 1. Loading Pheflux\n",
    "\n",
    "The use Pheflux, go to the folder where the ```pheflux.py``` is located and load it into memory as follows:"
   ]
  },
  {
   "cell_type": "code",
   "execution_count": null,
   "metadata": {},
   "outputs": [],
   "source": [
    "import pheflux"
   ]
  },
  {
   "cell_type": "markdown",
   "metadata": {},
   "source": [
    "## 2. Preparing the input files\n",
    "\n",
    "To run Pheflux, four inputs are needed:\n",
    "\n",
    "- ```inputFile```       : Name of the csv file with required information.\n",
    "- ```resultsDir```      : Name of the directory where output files will be stored.\n",
    "- ```verbosity```       : Verbose mode.\n",
    "- ```prefix_log_file``` : Prefix log output file."
   ]
  },
  {
   "cell_type": "markdown",
   "metadata": {},
   "source": [
    "### 2. 1 Input file\n",
    "\n",
    "The input file is a comma-separated file containing: the name of the organism, the condition, medium, gene expression file, and genome-scale metabolic network. \n",
    "\n",
    "More than one row can be defined in the same file. Pheflux will be run on the data provided for each line. For example, the input file ```examples/data/InputData_example.csv``` contains the following:\n",
    "\n",
    "| **Organism** | **Condition**          | **GeneExpFile**                                                                                        | **Medium**                           | **Network**           |\n",
    "|--------------|------------------------|--------------------------------------------------------------------------------------------------------|--------------------------------------|-----------------------|\n",
    "| Scerevisiae  | Glucose                | data/transcriptomes/Scerevisiae_Expfile_Glucose.csv                                                    | data/mediums/Scerevisiae_Medium.csv  | data/gems/iMM904.xml  |\n",
    "| Ecoli        | Glucose                | data/transcriptomes/Ecoli_Expfile_Glucose.csv                                                          | data/mediums/Ecoli_Medium.csv        | data/gems/iJO1366.xml |\n",
    "| Homo_sapiens | PrimaryTumor_StageIIIA | data/transcriptomes/002aa584-7dd3-4c62-952b-b24e5858482b/a5dc521e-bee4-489c-8679-d4b90a327d33.FPKM.txt | data/mediums/Hsapiens_cellMedium.csv | data/gems/Recon3D.xml |"
   ]
  },
  {
   "cell_type": "code",
   "execution_count": null,
   "metadata": {},
   "outputs": [],
   "source": [
    "inputFile       = \"./data/InputData_example.csv\"  # Name of the csv file with required information"
   ]
  },
  {
   "cell_type": "markdown",
   "metadata": {},
   "source": [
    "### 2.2 Results directory\n",
    "\n",
    "A string describing the folder where the output files will be stored. "
   ]
  },
  {
   "cell_type": "code",
   "execution_count": null,
   "metadata": {},
   "outputs": [],
   "source": [
    "resultsDir      = \"./results\" # Name of the directory where output files will be stored"
   ]
  },
  {
   "cell_type": "markdown",
   "metadata": {},
   "source": [
    "### 2.3 Verbosity\n",
    "\n",
    "Indicates whether a verbose output (```verbosity = True```) will be printed on terminal or not (```verbosity = False```)."
   ]
  },
  {
   "cell_type": "code",
   "execution_count": null,
   "metadata": {},
   "outputs": [],
   "source": [
    "verbosity       = True # Verbose mode"
   ]
  },
  {
   "cell_type": "markdown",
   "metadata": {},
   "source": [
    "### 2.4 Prefix of Log file\n",
    "\n",
    "Pheflux also produces a log file with summary statistics of all computations. The user-provided prefix is used to name this file. For example, if ```prefix = example``` an ```example_record_XXXX.log.csv``` file will be created, where ```XXXX``` is a random four-character tag."
   ]
  },
  {
   "cell_type": "code",
   "execution_count": null,
   "metadata": {},
   "outputs": [],
   "source": [
    "prefix_log_file = \"example\"  # Prefix log output file."
   ]
  },
  {
   "cell_type": "markdown",
   "metadata": {},
   "source": [
    "## 3. Running Pheflux\n",
    "\n",
    "With all input files defined, you are now ready to make fluxome estimations. For this, you need to used the ```getFluxes```:"
   ]
  },
  {
   "cell_type": "code",
   "execution_count": null,
   "metadata": {
    "scrolled": false
   },
   "outputs": [],
   "source": [
    "pheflux.getFluxes(inputFile,resultsDir,prefix_log_file,verbosity) "
   ]
  },
  {
   "cell_type": "markdown",
   "metadata": {},
   "source": [
    "## 4. What is the output\n",
    "\n",
    "Two output files are generated:\n",
    "\n",
    "- ```Organism_Condition_STATUS.fluxes.csv```: Comma-separated file containing the fluxome estimation. \n",
    "- ```Organism_Condition_STATUS.Log.csv```: Comma-separated file containing various statistics.\n",
    "\n",
    "For both files, the words ```Organism```, and ```Condition``` are extracted from the ```examples/data/InputData_example.csv``` file, and the ```STATUS``` word indicates ```IPOPT``` finalization condition."
   ]
  }
 ],
 "metadata": {
  "kernelspec": {
   "display_name": "Python 3",
   "language": "python",
   "name": "python3"
  },
  "language_info": {
   "codemirror_mode": {
    "name": "ipython",
    "version": 3
   },
   "file_extension": ".py",
   "mimetype": "text/x-python",
   "name": "python",
   "nbconvert_exporter": "python",
   "pygments_lexer": "ipython3",
   "version": "3.8.10"
  }
 },
 "nbformat": 4,
 "nbformat_minor": 4
}
